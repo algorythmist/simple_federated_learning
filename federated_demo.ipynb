{
 "cells": [
  {
   "cell_type": "markdown",
   "id": "722ec6a7",
   "metadata": {},
   "source": [
    "# Federated Machine Learning\n",
    "\n",
    "This demo illustrates a simple Federated Learning algorithm. We use it to train the Fashion-MNIST dataset."
   ]
  },
  {
   "cell_type": "code",
   "execution_count": 1,
   "id": "2e830765-c5b6-4558-a913-86da878f5842",
   "metadata": {},
   "outputs": [],
   "source": [
    "%load_ext autoreload\n",
    "%autoreload 2"
   ]
  },
  {
   "cell_type": "code",
   "execution_count": 2,
   "id": "29ec9ce1",
   "metadata": {},
   "outputs": [
    {
     "name": "stdout",
     "output_type": "stream",
     "text": [
      "WARNING:tensorflow:From C:\\Users\\Dimitri\\anaconda3\\envs\\simple_federated_learning\\Lib\\site-packages\\keras\\src\\losses.py:2976: The name tf.losses.sparse_softmax_cross_entropy is deprecated. Please use tf.compat.v1.losses.sparse_softmax_cross_entropy instead.\n",
      "\n"
     ]
    }
   ],
   "source": [
    "import keras\n",
    "from util import *\n",
    "from server import FederatedServer"
   ]
  },
  {
   "cell_type": "code",
   "execution_count": 3,
   "id": "12139156",
   "metadata": {},
   "outputs": [],
   "source": [
    "# Load the Fashion mnist dataset\n",
    "\n",
    "dataset = keras.datasets.fashion_mnist\n",
    "\n",
    "(X_train, y_train), (X_test, y_test) = dataset.load_data()    "
   ]
  },
  {
   "cell_type": "code",
   "execution_count": 4,
   "id": "dd7a641c-0a95-4546-ba39-a1477cc13b78",
   "metadata": {},
   "outputs": [],
   "source": [
    "import keras\n",
    "\n",
    "# For demo purposes, use a simple model that will do a decent enough job\n",
    "def build_simple_model():\n",
    "    \"\"\"\n",
    "    A simple model for classifying 28x28 images\n",
    "    :return: the model\n",
    "    \"\"\"\n",
    "    return keras.Sequential([\n",
    "        keras.layers.Flatten(input_shape=[28, 28]),\n",
    "        keras.layers.Rescaling(scale=1 / 255),\n",
    "        keras.layers.Dense(300, activation='relu'),\n",
    "        keras.layers.Dense(100, activation='relu'),\n",
    "        keras.layers.Dense(10, activation='softmax')\n",
    "    ])\n",
    "\n",
    "\n",
    "def build_and_compile_simple_model():\n",
    "    \"\"\"\n",
    "    A simple model for classifying 28x28 images, compiled for training\n",
    "    :return: the compiled model\n",
    "    \"\"\"\n",
    "    model = build_simple_model()\n",
    "    model.compile(loss=keras.losses.sparse_categorical_crossentropy,\n",
    "                  optimizer='adam',\n",
    "                  metrics=[keras.metrics.sparse_categorical_accuracy])\n",
    "    return model\n"
   ]
  },
  {
   "cell_type": "code",
   "execution_count": 5,
   "id": "35723c4a-2027-4fff-99eb-6e42c7469b07",
   "metadata": {},
   "outputs": [
    {
     "name": "stdout",
     "output_type": "stream",
     "text": [
      "WARNING:tensorflow:From C:\\Users\\Dimitri\\anaconda3\\envs\\simple_federated_learning\\Lib\\site-packages\\keras\\src\\backend.py:873: The name tf.get_default_graph is deprecated. Please use tf.compat.v1.get_default_graph instead.\n",
      "\n",
      "WARNING:tensorflow:From C:\\Users\\Dimitri\\anaconda3\\envs\\simple_federated_learning\\Lib\\site-packages\\keras\\src\\optimizers\\__init__.py:309: The name tf.train.Optimizer is deprecated. Please use tf.compat.v1.train.Optimizer instead.\n",
      "\n",
      "Epoch 1/10\n",
      "WARNING:tensorflow:From C:\\Users\\Dimitri\\anaconda3\\envs\\simple_federated_learning\\Lib\\site-packages\\keras\\src\\utils\\tf_utils.py:492: The name tf.ragged.RaggedTensorValue is deprecated. Please use tf.compat.v1.ragged.RaggedTensorValue instead.\n",
      "\n",
      "WARNING:tensorflow:From C:\\Users\\Dimitri\\anaconda3\\envs\\simple_federated_learning\\Lib\\site-packages\\keras\\src\\engine\\base_layer_utils.py:384: The name tf.executing_eagerly_outside_functions is deprecated. Please use tf.compat.v1.executing_eagerly_outside_functions instead.\n",
      "\n",
      "1875/1875 [==============================] - 5s 3ms/step - loss: 0.4741 - sparse_categorical_accuracy: 0.8299\n",
      "Epoch 2/10\n",
      "1875/1875 [==============================] - 5s 3ms/step - loss: 0.3590 - sparse_categorical_accuracy: 0.8686\n",
      "Epoch 3/10\n",
      "1875/1875 [==============================] - 5s 2ms/step - loss: 0.3227 - sparse_categorical_accuracy: 0.8800\n",
      "Epoch 4/10\n",
      "1875/1875 [==============================] - 5s 3ms/step - loss: 0.3035 - sparse_categorical_accuracy: 0.8891\n",
      "Epoch 5/10\n",
      "1875/1875 [==============================] - 5s 3ms/step - loss: 0.2833 - sparse_categorical_accuracy: 0.8924\n",
      "Epoch 6/10\n",
      "1875/1875 [==============================] - 6s 3ms/step - loss: 0.2674 - sparse_categorical_accuracy: 0.8990\n",
      "Epoch 7/10\n",
      "1875/1875 [==============================] - 5s 3ms/step - loss: 0.2553 - sparse_categorical_accuracy: 0.9039\n",
      "Epoch 8/10\n",
      "1875/1875 [==============================] - 5s 2ms/step - loss: 0.2455 - sparse_categorical_accuracy: 0.9072\n",
      "Epoch 9/10\n",
      "1875/1875 [==============================] - 5s 3ms/step - loss: 0.2344 - sparse_categorical_accuracy: 0.9107\n",
      "Epoch 10/10\n",
      "1875/1875 [==============================] - 5s 3ms/step - loss: 0.2254 - sparse_categorical_accuracy: 0.9146\n",
      "313/313 [==============================] - 0s 1ms/step - loss: 0.3357 - sparse_categorical_accuracy: 0.8842\n",
      " accuracy: 0.8841999769210815 | loss: 0.33572936058044434\n"
     ]
    }
   ],
   "source": [
    "# First train in a non-Federated manner, using the entity data set\n",
    "model = build_and_compile_simple_model()\n",
    "model.fit(X_train, y_train, epochs=10)\n",
    "loss, accuracy = model.evaluate(X_test, y_test)\n",
    "print(f\" accuracy: {accuracy} | loss: {loss}\")"
   ]
  },
  {
   "cell_type": "markdown",
   "id": "964b30c8-de3f-4918-9a63-7c8876135b7e",
   "metadata": {},
   "source": [
    "## Federated ML"
   ]
  },
  {
   "cell_type": "code",
   "execution_count": 8,
   "id": "0f4679a3",
   "metadata": {},
   "outputs": [],
   "source": [
    "# shuffle the training data\n",
    "shuffle_together(X_train, y_train)\n",
    "\n",
    "# split the training data between the server and the clients\n",
    "shard_ratios = [0.2, 0.3, 0.1, 0.2, 0.2]\n",
    "shards = split_data(X_train, y_train, shard_ratios)\n",
    "# assign the first shard to the server for pre-training\n",
    "X_server, y_server = shards[0]\n",
    "\n",
    "# create the clients\n",
    "clients = create_clients(shards=shards[1:], create_model_fn=build_and_compile_simple_model)"
   ]
  },
  {
   "cell_type": "code",
   "execution_count": 11,
   "id": "8edb4f49",
   "metadata": {},
   "outputs": [
    {
     "name": "stdout",
     "output_type": "stream",
     "text": [
      "Server iteration 0\n",
      "Fitting local model for client client_1\n",
      "Fitting local model for client client_2\n",
      "Fitting local model for client client_3\n",
      "Fitting local model for client client_4\n",
      "375/375 [==============================] - 1s 1ms/step - loss: 0.7234 - sparse_categorical_accuracy: 0.7776\n",
      "Server iteration 1\n",
      "Fitting local model for client client_1\n",
      "Fitting local model for client client_2\n",
      "Fitting local model for client client_3\n",
      "Fitting local model for client client_4\n",
      "375/375 [==============================] - 0s 1ms/step - loss: 0.4066 - sparse_categorical_accuracy: 0.8555\n",
      "Server iteration 2\n",
      "Fitting local model for client client_1\n",
      "Fitting local model for client client_2\n",
      "Fitting local model for client client_3\n",
      "Fitting local model for client client_4\n",
      "375/375 [==============================] - 0s 1ms/step - loss: 0.3738 - sparse_categorical_accuracy: 0.8657\n",
      "Server iteration 3\n",
      "Fitting local model for client client_1\n",
      "Fitting local model for client client_2\n",
      "Fitting local model for client client_3\n",
      "Fitting local model for client client_4\n",
      "375/375 [==============================] - 0s 1ms/step - loss: 0.3662 - sparse_categorical_accuracy: 0.8670\n",
      "Server iteration 4\n",
      "Fitting local model for client client_1\n",
      "Fitting local model for client client_2\n",
      "Fitting local model for client client_3\n",
      "Fitting local model for client client_4\n",
      "375/375 [==============================] - 0s 1ms/step - loss: 0.3437 - sparse_categorical_accuracy: 0.8735\n",
      "Server iteration 5\n",
      "Fitting local model for client client_1\n",
      "Fitting local model for client client_2\n",
      "Fitting local model for client client_3\n",
      "Fitting local model for client client_4\n",
      "375/375 [==============================] - 0s 1ms/step - loss: 0.3425 - sparse_categorical_accuracy: 0.8736\n",
      "Server iteration 6\n",
      "Fitting local model for client client_1\n",
      "Fitting local model for client client_2\n",
      "Fitting local model for client client_3\n",
      "Fitting local model for client client_4\n",
      "375/375 [==============================] - 1s 1ms/step - loss: 0.3301 - sparse_categorical_accuracy: 0.8800\n",
      "Server iteration 7\n",
      "Fitting local model for client client_1\n",
      "Fitting local model for client client_2\n",
      "Fitting local model for client client_3\n",
      "Fitting local model for client client_4\n",
      "375/375 [==============================] - 0s 1ms/step - loss: 0.3234 - sparse_categorical_accuracy: 0.8854\n",
      "Server iteration 8\n",
      "Fitting local model for client client_1\n",
      "Fitting local model for client client_2\n",
      "Fitting local model for client client_3\n",
      "Fitting local model for client client_4\n",
      "375/375 [==============================] - 0s 1ms/step - loss: 0.3159 - sparse_categorical_accuracy: 0.8853\n",
      "Server iteration 9\n",
      "Fitting local model for client client_1\n",
      "Fitting local model for client client_2\n",
      "Fitting local model for client client_3\n",
      "Fitting local model for client client_4\n",
      "375/375 [==============================] - 0s 1ms/step - loss: 0.3097 - sparse_categorical_accuracy: 0.8878\n"
     ]
    }
   ],
   "source": [
    "# Create a model for the server for testing\n",
    "server_model = build_and_compile_simple_model()\n",
    "# Create the central server and run federated learning for 10 iterations\n",
    "server = FederatedServer(server_model, clients, batch_size=10, client_epochs=1)\n",
    "tracker = HistoryTracker(X_server, y_server)\n",
    "server.train(iterations=10, evaluate_fn=tracker)"
   ]
  },
  {
   "cell_type": "code",
   "execution_count": 12,
   "id": "6ad28ffa",
   "metadata": {},
   "outputs": [
    {
     "name": "stdout",
     "output_type": "stream",
     "text": [
      "313/313 [==============================] - 0s 1ms/step - loss: 0.3433 - sparse_categorical_accuracy: 0.8767\n",
      " accuracy: 0.8766999840736389 | loss: 0.3432624340057373\n"
     ]
    }
   ],
   "source": [
    "# Evaluate the final model on the validation set\n",
    "\n",
    "loss, accuracy = server_model.evaluate(X_test, y_test)\n",
    "print(f\" accuracy: {accuracy} | loss: {loss}\")"
   ]
  },
  {
   "cell_type": "code",
   "execution_count": 19,
   "id": "c66322b7",
   "metadata": {},
   "outputs": [
    {
     "data": {
      "image/png": "[encoded data removed]",
      "text/plain": [
       "<Figure size 640x480 with 2 Axes>"
      ]
     },
     "metadata": {},
     "output_type": "display_data"
    }
   ],
   "source": [
    "import matplotlib.pyplot as plt\n",
    "\n",
    "loss_history, accuracy_history = tracker.get_history()\n",
    "fig, ax1 = plt.subplots()\n",
    "color = 'tab:red'\n",
    "ax1.set_xlabel('iteration')\n",
    "ax1.set_ylabel('loss', color=color)\n",
    "ax1.plot(loss_history, color=color)\n",
    "ax1.tick_params(axis='y', labelcolor=color)\n",
    "\n",
    "ax2 = ax1.twinx()\n",
    "color = 'tab:blue'\n",
    "ax2.set_ylabel('accuracy', color=color)\n",
    "ax2.plot(accuracy_history, color=color)\n",
    "ax2.tick_params(axis='y', labelcolor=color)\n",
    "\n",
    "fig.tight_layout() \n",
    "plt.show()"
   ]
  },
  {
   "cell_type": "code",
   "execution_count": null,
   "id": "d52330e9-90d6-4457-a3e3-a55d9e15a3fe",
   "metadata": {},
   "outputs": [],
   "source": []
  }
 ],
 "metadata": {
  "kernelspec": {
   "display_name": "simple_federated_learning",
   "language": "python",
   "name": "simple_federated_learning"
  },
  "language_info": {
   "codemirror_mode": {
    "name": "ipython",
    "version": 3
   },
   "file_extension": ".py",
   "mimetype": "text/x-python",
   "name": "python",
   "nbconvert_exporter": "python",
   "pygments_lexer": "ipython3",
   "version": "3.11.5"
  },
  "widgets": {
   "application/vnd.jupyter.widget-state+json": {
    "state": {},
    "version_major": 2,
    "version_minor": 0
   }
  }
 },
 "nbformat": 4,
 "nbformat_minor": 5
}
