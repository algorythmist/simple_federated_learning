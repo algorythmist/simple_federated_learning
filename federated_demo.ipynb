{
 "cells": [
  {
   "cell_type": "markdown",
   "id": "722ec6a7",
   "metadata": {},
   "source": [
    "# Federated Machine Learning\n",
    "\n",
    "This demo illustrates the federated learning algorithm with the fashion mnist dataset"
   ]
  },
  {
   "cell_type": "code",
   "execution_count": 1,
   "id": "29ec9ce1",
   "metadata": {},
   "outputs": [
    {
     "name": "stdout",
     "output_type": "stream",
     "text": [
      "WARNING:tensorflow:From C:\\Users\\Dimitri\\anaconda3\\envs\\simple_federated_learning\\Lib\\site-packages\\keras\\src\\losses.py:2976: The name tf.losses.sparse_softmax_cross_entropy is deprecated. Please use tf.compat.v1.losses.sparse_softmax_cross_entropy instead.\n",
      "\n"
     ]
    }
   ],
   "source": [
    "import keras\n",
    "from util import *\n",
    "from server import FederatedServer"
   ]
  },
  {
   "cell_type": "code",
   "execution_count": 2,
   "id": "12139156",
   "metadata": {},
   "outputs": [],
   "source": [
    "# Load the Fashion mnist dataset\n",
    "\n",
    "dataset = keras.datasets.fashion_mnist\n",
    "\n",
    "(X_train, y_train), (X_test, y_test) = dataset.load_data()    "
   ]
  },
  {
   "cell_type": "code",
   "execution_count": 3,
   "id": "0f4679a3",
   "metadata": {},
   "outputs": [
    {
     "name": "stdout",
     "output_type": "stream",
     "text": [
      "WARNING:tensorflow:From C:\\Users\\Dimitri\\anaconda3\\envs\\simple_federated_learning\\Lib\\site-packages\\keras\\src\\backend.py:873: The name tf.get_default_graph is deprecated. Please use tf.compat.v1.get_default_graph instead.\n",
      "\n",
      "WARNING:tensorflow:From C:\\Users\\Dimitri\\anaconda3\\envs\\simple_federated_learning\\Lib\\site-packages\\keras\\src\\optimizers\\__init__.py:309: The name tf.train.Optimizer is deprecated. Please use tf.compat.v1.train.Optimizer instead.\n",
      "\n"
     ]
    }
   ],
   "source": [
    "# shuffle the training data\n",
    "shuffle_together(X_train, y_train)\n",
    "\n",
    "# split the training data between the server and the clients\n",
    "shard_ratios = [0.2, 0.3, 0.1, 0.2, 0.2]\n",
    "shards = split_data(X_train, y_train, shard_ratios)\n",
    "# assign the first shard to the server for pre-training\n",
    "X_server, y_server = shards[0]\n",
    "\n",
    "# create the clients\n",
    "clients = create_clients(shards=shards[1:], create_model_fn=build_and_compile_simple_model)"
   ]
  },
  {
   "cell_type": "code",
   "execution_count": 4,
   "id": "8edb4f49",
   "metadata": {},
   "outputs": [
    {
     "name": "stdout",
     "output_type": "stream",
     "text": [
      "Server iteration 0\n",
      "Fitting local model for client client_1\n",
      "WARNING:tensorflow:From C:\\Users\\Dimitri\\anaconda3\\envs\\simple_federated_learning\\Lib\\site-packages\\keras\\src\\utils\\tf_utils.py:492: The name tf.ragged.RaggedTensorValue is deprecated. Please use tf.compat.v1.ragged.RaggedTensorValue instead.\n",
      "\n",
      "WARNING:tensorflow:From C:\\Users\\Dimitri\\anaconda3\\envs\\simple_federated_learning\\Lib\\site-packages\\keras\\src\\engine\\base_layer_utils.py:384: The name tf.executing_eagerly_outside_functions is deprecated. Please use tf.compat.v1.executing_eagerly_outside_functions instead.\n",
      "\n",
      "Fitting local model for client client_2\n",
      "Fitting local model for client client_3\n",
      "Fitting local model for client client_4\n",
      "375/375 [==============================] - 1s 1ms/step - loss: 0.5668 - sparse_categorical_accuracy: 0.8049\n",
      "Server iteration 1\n",
      "Fitting local model for client client_1\n",
      "Fitting local model for client client_2\n",
      "Fitting local model for client client_3\n",
      "Fitting local model for client client_4\n",
      "375/375 [==============================] - 0s 1ms/step - loss: 0.4870 - sparse_categorical_accuracy: 0.8317\n",
      "Server iteration 2\n",
      "Fitting local model for client client_1\n",
      "Fitting local model for client client_2\n",
      "Fitting local model for client client_3\n",
      "Fitting local model for client client_4\n",
      "375/375 [==============================] - 1s 2ms/step - loss: 0.4526 - sparse_categorical_accuracy: 0.8432\n",
      "Server iteration 3\n",
      "Fitting local model for client client_1\n",
      "Fitting local model for client client_2\n",
      "Fitting local model for client client_3\n",
      "Fitting local model for client client_4\n",
      "375/375 [==============================] - 1s 1ms/step - loss: 0.4352 - sparse_categorical_accuracy: 0.8462\n",
      "Server iteration 4\n",
      "Fitting local model for client client_1\n",
      "Fitting local model for client client_2\n",
      "Fitting local model for client client_3\n",
      "Fitting local model for client client_4\n",
      "375/375 [==============================] - 0s 1ms/step - loss: 0.4040 - sparse_categorical_accuracy: 0.8597\n",
      "Server iteration 5\n",
      "Fitting local model for client client_1\n",
      "Fitting local model for client client_2\n",
      "Fitting local model for client client_3\n",
      "Fitting local model for client client_4\n",
      "375/375 [==============================] - 0s 1ms/step - loss: 0.3971 - sparse_categorical_accuracy: 0.8622\n",
      "Server iteration 6\n",
      "Fitting local model for client client_1\n",
      "Fitting local model for client client_2\n",
      "Fitting local model for client client_3\n",
      "Fitting local model for client client_4\n",
      "375/375 [==============================] - 0s 1ms/step - loss: 0.3807 - sparse_categorical_accuracy: 0.8657\n",
      "Server iteration 7\n",
      "Fitting local model for client client_1\n",
      "Fitting local model for client client_2\n",
      "Fitting local model for client client_3\n",
      "Fitting local model for client client_4\n",
      "375/375 [==============================] - 0s 1ms/step - loss: 0.3710 - sparse_categorical_accuracy: 0.8692\n",
      "Server iteration 8\n",
      "Fitting local model for client client_1\n",
      "Fitting local model for client client_2\n",
      "Fitting local model for client client_3\n",
      "Fitting local model for client client_4\n",
      "375/375 [==============================] - 1s 1ms/step - loss: 0.3660 - sparse_categorical_accuracy: 0.8701\n",
      "Server iteration 9\n",
      "Fitting local model for client client_1\n",
      "Fitting local model for client client_2\n",
      "Fitting local model for client client_3\n",
      "Fitting local model for client client_4\n",
      "375/375 [==============================] - 1s 2ms/step - loss: 0.3580 - sparse_categorical_accuracy: 0.8744\n"
     ]
    }
   ],
   "source": [
    "# Create a model for the server for testing\n",
    "server_model = build_and_compile_simple_model()\n",
    "# Create the central server and run federated learning for 20 iterations\n",
    "server = FederatedServer(server_model, clients, batch_size=10, client_epochs=1)\n",
    "server.train(10, evaluate_fn=lambda model: model.evaluate(X_server, y_server))"
   ]
  },
  {
   "cell_type": "code",
   "execution_count": 5,
   "id": "6ad28ffa",
   "metadata": {},
   "outputs": [
    {
     "name": "stdout",
     "output_type": "stream",
     "text": [
      "313/313 [==============================] - 1s 1ms/step - loss: 0.3908 - sparse_categorical_accuracy: 0.8590\n",
      " accuracy: 0.859000027179718 | loss: 0.3907892107963562\n"
     ]
    }
   ],
   "source": [
    "# Evaluate the final model on the validation set\n",
    "\n",
    "loss, accuracy = server_model.evaluate(X_test, y_test)\n",
    "print(f\" accuracy: {accuracy} | loss: {loss}\")"
   ]
  },
  {
   "cell_type": "code",
   "execution_count": null,
   "id": "c66322b7",
   "metadata": {},
   "outputs": [],
   "source": []
  }
 ],
 "metadata": {
  "kernelspec": {
   "display_name": "simple_federated_learning",
   "language": "python",
   "name": "simple_federated_learning"
  },
  "language_info": {
   "codemirror_mode": {
    "name": "ipython",
    "version": 3
   },
   "file_extension": ".py",
   "mimetype": "text/x-python",
   "name": "python",
   "nbconvert_exporter": "python",
   "pygments_lexer": "ipython3",
   "version": "3.11.5"
  },
  "widgets": {
   "application/vnd.jupyter.widget-state+json": {
    "state": {},
    "version_major": 2,
    "version_minor": 0
   }
  }
 },
 "nbformat": 4,
 "nbformat_minor": 5
}
