{
 "cells": [
  {
   "cell_type": "markdown",
   "id": "722ec6a7",
   "metadata": {},
   "source": [
    "# Federated Machine Learning\n",
    "\n",
    "This demo illustrates a simple Federated Learning algorithm. We use it to train the Fashion-MNIST dataset."
   ]
  },
  {
   "cell_type": "code",
   "execution_count": 1,
   "id": "2e830765-c5b6-4558-a913-86da878f5842",
   "metadata": {},
   "outputs": [],
   "source": [
    "%load_ext autoreload\n",
    "%autoreload 2"
   ]
  },
  {
   "cell_type": "code",
   "execution_count": 2,
   "id": "4b53c780-3f69-4e56-95a9-c84a4f8eda43",
   "metadata": {},
   "outputs": [],
   "source": [
    "# disable tensorflow warnings\n",
    "\n",
    "import logging\n",
    "logging.getLogger('tensorflow').disabled = True\n",
    "import tensorflow as tf"
   ]
  },
  {
   "cell_type": "code",
   "execution_count": 3,
   "id": "29ec9ce1",
   "metadata": {},
   "outputs": [],
   "source": [
    "import keras\n",
    "from util import *\n",
    "from server import FederatedServer"
   ]
  },
  {
   "cell_type": "markdown",
   "id": "bedc0326-3660-481c-b277-d5a5599fef51",
   "metadata": {},
   "source": [
    "## Load the Fashion MNIST dataset"
   ]
  },
  {
   "cell_type": "code",
   "execution_count": 4,
   "id": "12139156",
   "metadata": {},
   "outputs": [],
   "source": [
    "# Load the Fashion mnist dataset\n",
    "\n",
    "dataset = keras.datasets.fashion_mnist\n",
    "\n",
    "(X_train, y_train), (X_test, y_test) = dataset.load_data()    "
   ]
  },
  {
   "cell_type": "markdown",
   "id": "a6901942-5aa2-4830-a0be-c79d516045f6",
   "metadata": {},
   "source": [
    "## Create a simple 3 layer NN"
   ]
  },
  {
   "cell_type": "code",
   "execution_count": 7,
   "id": "dd7a641c-0a95-4546-ba39-a1477cc13b78",
   "metadata": {},
   "outputs": [],
   "source": [
    "import keras\n",
    "\n",
    "# For demo purposes, use a simple model that will do a decent enough job\n",
    "def build_simple_model():\n",
    "    \"\"\"\n",
    "    A simple model for classifying 28x28 images\n",
    "    :return: the model\n",
    "    \"\"\"\n",
    "    return keras.Sequential([\n",
    "        keras.layers.Flatten(input_shape=[28, 28]),\n",
    "        keras.layers.Rescaling(scale=1 / 255),\n",
    "        keras.layers.Dense(300, activation='relu'),\n",
    "        keras.layers.Dense(100, activation='relu'),\n",
    "        keras.layers.Dense(10, activation='softmax')\n",
    "    ])\n",
    "\n",
    "\n",
    "def build_and_compile_simple_model():\n",
    "    \"\"\"\n",
    "    A simple model for classifying 28x28 images, compiled for training\n",
    "    :return: the compiled model\n",
    "    \"\"\"\n",
    "    model = build_simple_model()\n",
    "    model.compile(loss=keras.losses.sparse_categorical_crossentropy,\n",
    "                  optimizer='adam',\n",
    "                  metrics=[keras.metrics.sparse_categorical_accuracy])\n",
    "    return model\n"
   ]
  },
  {
   "cell_type": "markdown",
   "id": "b637d6e7-4d95-4ff9-b9ad-fa330eb7d77d",
   "metadata": {},
   "source": [
    "## Train directly without Federated Learning"
   ]
  },
  {
   "cell_type": "code",
   "execution_count": 6,
   "id": "35723c4a-2027-4fff-99eb-6e42c7469b07",
   "metadata": {},
   "outputs": [
    {
     "name": "stdout",
     "output_type": "stream",
     "text": [
      "Epoch 1/10\n",
      "1875/1875 [==============================] - 7s 3ms/step - loss: 0.4803 - sparse_categorical_accuracy: 0.8280\n",
      "Epoch 2/10\n",
      "1875/1875 [==============================] - 6s 3ms/step - loss: 0.3627 - sparse_categorical_accuracy: 0.8676\n",
      "Epoch 3/10\n",
      "1875/1875 [==============================] - 6s 3ms/step - loss: 0.3253 - sparse_categorical_accuracy: 0.8792\n",
      "Epoch 4/10\n",
      "1875/1875 [==============================] - 6s 3ms/step - loss: 0.3029 - sparse_categorical_accuracy: 0.8871\n",
      "Epoch 5/10\n",
      "1875/1875 [==============================] - 6s 3ms/step - loss: 0.2857 - sparse_categorical_accuracy: 0.8939\n",
      "Epoch 6/10\n",
      "1875/1875 [==============================] - 6s 3ms/step - loss: 0.2667 - sparse_categorical_accuracy: 0.9007\n",
      "Epoch 7/10\n",
      "1875/1875 [==============================] - 5s 3ms/step - loss: 0.2548 - sparse_categorical_accuracy: 0.9028\n",
      "Epoch 8/10\n",
      "1875/1875 [==============================] - 5s 3ms/step - loss: 0.2439 - sparse_categorical_accuracy: 0.9076\n",
      "Epoch 9/10\n",
      "1875/1875 [==============================] - 5s 3ms/step - loss: 0.2347 - sparse_categorical_accuracy: 0.9104\n",
      "Epoch 10/10\n",
      "1875/1875 [==============================] - 5s 3ms/step - loss: 0.2257 - sparse_categorical_accuracy: 0.9141\n",
      "313/313 [==============================] - 1s 1ms/step - loss: 0.3287 - sparse_categorical_accuracy: 0.8863\n",
      " accuracy: 0.8863000273704529 | loss: 0.32867228984832764\n"
     ]
    }
   ],
   "source": [
    "# First train in a non-Federated manner, using the entity data set\n",
    "model = build_and_compile_simple_model()\n",
    "model.fit(X_train, y_train, epochs=10)\n",
    "loss, accuracy = model.evaluate(X_test, y_test)\n",
    "print(f\" accuracy: {accuracy} | loss: {loss}\")"
   ]
  },
  {
   "cell_type": "markdown",
   "id": "964b30c8-de3f-4918-9a63-7c8876135b7e",
   "metadata": {},
   "source": [
    "## Federated ML"
   ]
  },
  {
   "cell_type": "code",
   "execution_count": 8,
   "id": "0f4679a3",
   "metadata": {},
   "outputs": [],
   "source": [
    "# shuffle the training data\n",
    "shuffle_together(X_train, y_train)\n",
    "\n",
    "# split the training data between the server and the clients\n",
    "shard_ratios = [0.2, 0.3, 0.1, 0.2, 0.2]\n",
    "shards = split_data(X_train, y_train, shard_ratios)\n",
    "# assign the first shard to the server for pre-training\n",
    "X_server, y_server = shards[0]\n",
    "\n",
    "# create the clients\n",
    "clients = create_clients(shards=shards[1:], create_model_fn=build_and_compile_simple_model)"
   ]
  },
  {
   "cell_type": "code",
   "execution_count": 9,
   "id": "8edb4f49",
   "metadata": {},
   "outputs": [
    {
     "name": "stdout",
     "output_type": "stream",
     "text": [
      "Server iteration 0\n",
      "Fitting local model for client client_1\n",
      "Fitting local model for client client_2\n",
      "Fitting local model for client client_3\n",
      "Fitting local model for client client_4\n",
      "375/375 [==============================] - 1s 1ms/step - loss: 0.5449 - sparse_categorical_accuracy: 0.8156\n",
      "Server iteration 1\n",
      "Fitting local model for client client_1\n",
      "Fitting local model for client client_2\n",
      "Fitting local model for client client_3\n",
      "Fitting local model for client client_4\n",
      "375/375 [==============================] - 1s 1ms/step - loss: 0.3945 - sparse_categorical_accuracy: 0.8604\n",
      "Server iteration 2\n",
      "Fitting local model for client client_1\n",
      "Fitting local model for client client_2\n",
      "Fitting local model for client client_3\n",
      "Fitting local model for client client_4\n",
      "375/375 [==============================] - 1s 1ms/step - loss: 0.3777 - sparse_categorical_accuracy: 0.8609\n",
      "Server iteration 3\n",
      "Fitting local model for client client_1\n",
      "Fitting local model for client client_2\n",
      "Fitting local model for client client_3\n",
      "Fitting local model for client client_4\n",
      "375/375 [==============================] - 1s 1ms/step - loss: 0.3558 - sparse_categorical_accuracy: 0.8719\n",
      "Server iteration 4\n",
      "Fitting local model for client client_1\n",
      "Fitting local model for client client_2\n",
      "Fitting local model for client client_3\n",
      "Fitting local model for client client_4\n",
      "375/375 [==============================] - 0s 1ms/step - loss: 0.3458 - sparse_categorical_accuracy: 0.8737\n",
      "Server iteration 5\n",
      "Fitting local model for client client_1\n",
      "Fitting local model for client client_2\n",
      "Fitting local model for client client_3\n",
      "Fitting local model for client client_4\n",
      "375/375 [==============================] - 0s 1ms/step - loss: 0.3380 - sparse_categorical_accuracy: 0.8778\n",
      "Server iteration 6\n",
      "Fitting local model for client client_1\n",
      "Fitting local model for client client_2\n",
      "Fitting local model for client client_3\n",
      "Fitting local model for client client_4\n",
      "375/375 [==============================] - 1s 2ms/step - loss: 0.3329 - sparse_categorical_accuracy: 0.8768\n",
      "Server iteration 7\n",
      "Fitting local model for client client_1\n",
      "Fitting local model for client client_2\n",
      "Fitting local model for client client_3\n",
      "Fitting local model for client client_4\n",
      "375/375 [==============================] - 0s 1ms/step - loss: 0.3220 - sparse_categorical_accuracy: 0.8817\n",
      "Server iteration 8\n",
      "Fitting local model for client client_1\n",
      "Fitting local model for client client_2\n",
      "Fitting local model for client client_3\n",
      "Fitting local model for client client_4\n",
      "375/375 [==============================] - 0s 1ms/step - loss: 0.3201 - sparse_categorical_accuracy: 0.8845\n",
      "Server iteration 9\n",
      "Fitting local model for client client_1\n",
      "Fitting local model for client client_2\n",
      "Fitting local model for client client_3\n",
      "Fitting local model for client client_4\n",
      "375/375 [==============================] - 1s 1ms/step - loss: 0.3142 - sparse_categorical_accuracy: 0.8868\n"
     ]
    }
   ],
   "source": [
    "# Create a model for the server for testing\n",
    "server_model = build_and_compile_simple_model()\n",
    "# Create the central server and run federated learning for 10 iterations\n",
    "server = FederatedServer(server_model, clients, batch_size=10, client_epochs=1)\n",
    "tracker = HistoryTracker(X_server, y_server)\n",
    "server.train(iterations=10, evaluate_fn=tracker)"
   ]
  },
  {
   "cell_type": "code",
   "execution_count": 10,
   "id": "6ad28ffa",
   "metadata": {},
   "outputs": [
    {
     "name": "stdout",
     "output_type": "stream",
     "text": [
      "313/313 [==============================] - 0s 1ms/step - loss: 0.3529 - sparse_categorical_accuracy: 0.8748\n",
      " accuracy: 0.8748000264167786 | loss: 0.3528728783130646\n"
     ]
    }
   ],
   "source": [
    "# Evaluate the final model on the validation set\n",
    "\n",
    "loss, accuracy = server_model.evaluate(X_test, y_test)\n",
    "print(f\" accuracy: {accuracy} | loss: {loss}\")"
   ]
  },
  {
   "cell_type": "markdown",
   "id": "1ec1cdd4-af23-46f8-bbaf-5fda2add5b27",
   "metadata": {},
   "source": [
    "## Plot training history"
   ]
  },
  {
   "cell_type": "code",
   "execution_count": 12,
   "id": "c66322b7",
   "metadata": {},
   "outputs": [
    {
     "data": {
      "image/png": "[encoded data removed]",
      "text/plain": [
       "<Figure size 640x480 with 2 Axes>"
      ]
     },
     "metadata": {},
     "output_type": "display_data"
    }
   ],
   "source": [
    "import matplotlib.pyplot as plt\n",
    "\n",
    "loss_history, accuracy_history = tracker.get_history()\n",
    "fig, ax1 = plt.subplots()\n",
    "color = 'tab:red'\n",
    "ax1.set_xlabel('iteration')\n",
    "ax1.set_ylabel('loss', color=color)\n",
    "ax1.plot(loss_history, color=color)\n",
    "ax1.tick_params(axis='y', labelcolor=color)\n",
    "\n",
    "ax2 = ax1.twinx()\n",
    "color = 'tab:blue'\n",
    "ax2.set_ylabel('accuracy', color=color)\n",
    "ax2.plot(accuracy_history, color=color)\n",
    "ax2.tick_params(axis='y', labelcolor=color)\n",
    "\n",
    "fig.tight_layout() \n",
    "plt.savefig(\"training_history.png\")\n",
    "plt.show()"
   ]
  }
 ],
 "metadata": {
  "kernelspec": {
   "display_name": "simple_federated_learning",
   "language": "python",
   "name": "simple_federated_learning"
  },
  "language_info": {
   "codemirror_mode": {
    "name": "ipython",
    "version": 3
   },
   "file_extension": ".py",
   "mimetype": "text/x-python",
   "name": "python",
   "nbconvert_exporter": "python",
   "pygments_lexer": "ipython3",
   "version": "3.11.5"
  },
  "widgets": {
   "application/vnd.jupyter.widget-state+json": {
    "state": {},
    "version_major": 2,
    "version_minor": 0
   }
  }
 },
 "nbformat": 4,
 "nbformat_minor": 5
}
